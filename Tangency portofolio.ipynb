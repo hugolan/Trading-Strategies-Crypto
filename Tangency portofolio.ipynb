{
 "cells": [
  {
   "cell_type": "code",
   "execution_count": 1,
   "id": "cc219c5f",
   "metadata": {},
   "outputs": [],
   "source": [
    "import yfinance as yf\n",
    "import pandas as pd\n",
    "import numpy as np\n",
    "import matplotlib.pyplot as plt"
   ]
  },
  {
   "cell_type": "markdown",
   "id": "f7b00c14",
   "metadata": {},
   "source": [
    "# Load Data"
   ]
  },
  {
   "cell_type": "code",
   "execution_count": 3,
   "id": "19413051",
   "metadata": {},
   "outputs": [],
   "source": [
    "BTC_Ticker = yf.Ticker(\"BTC-USD\")\n",
    "BTC_Data = BTC_Ticker.history(period=\"max\")"
   ]
  },
  {
   "cell_type": "code",
   "execution_count": 4,
   "id": "702be41c",
   "metadata": {},
   "outputs": [],
   "source": [
    "close_price_bitcoin = BTC_Data[\"Close\"].to_numpy()\n",
    "close_price_bitcoin_nohead = close_price_bitcoin[1:]\n",
    "close_price_bitcoin_notail = close_price_bitcoin[:len(close_price_bitcoin) - 1]\n",
    "\n",
    "bitcoin_volatility = (close_price_bitcoin_nohead/close_price_bitcoin_notail - 1)\n",
    "bitcoin_std = np.std(bitcoin_volatility)*np.sqrt(365)\n",
    "\n",
    "bitcoin_ror = ((close_price_bitcoin_nohead - close_price_bitcoin_notail)/close_price_bitcoin_notail)\n",
    "expected_return_bitcoin = np.mean(bitcoin_ror)*365"
   ]
  },
  {
   "cell_type": "code",
   "execution_count": 5,
   "id": "a84ed254",
   "metadata": {},
   "outputs": [],
   "source": [
    "one_ticker = yf.Ticker(\"ONE1-USD\")\n",
    "one_data = one_ticker.history(period=\"max\")"
   ]
  },
  {
   "cell_type": "code",
   "execution_count": 6,
   "id": "d6b6b680",
   "metadata": {},
   "outputs": [],
   "source": [
    "close_price_one = one_data[\"Close\"].to_numpy()\n",
    "close_price_one_nohead = close_price_one[1:]\n",
    "close_price_one_notail = close_price_one[:len(close_price_one) - 1]\n",
    "one_volatility = (close_price_one_nohead/close_price_one_notail - 1)\n",
    "one_std = np.std(one_volatility)*np.sqrt(365)\n",
    "one_ror = ((close_price_one_nohead - close_price_one_notail)/close_price_one_notail)\n",
    "expected_return_one = np.mean(one_ror)*365"
   ]
  },
  {
   "cell_type": "code",
   "execution_count": 11,
   "id": "5931cbe9",
   "metadata": {},
   "outputs": [],
   "source": [
    "luna_ticker = yf.Ticker(\"LUNA1-USD\")\n",
    "luna_data = luna_ticker.history(period=\"max\")"
   ]
  },
  {
   "cell_type": "markdown",
   "id": "9090d9de",
   "metadata": {},
   "source": [
    "# Efficient frontier "
   ]
  },
  {
   "cell_type": "code",
   "execution_count": 12,
   "id": "326c6063",
   "metadata": {},
   "outputs": [],
   "source": [
    "risk_free_rate_harmony = 0.05\n",
    "corr_one_btc = one_data[\"Close\"].corr(BTC_Data[\"Close\"])"
   ]
  },
  {
   "cell_type": "code",
   "execution_count": 8,
   "id": "8f3ad3af",
   "metadata": {
    "scrolled": true
   },
   "outputs": [
    {
     "data": {
      "image/png": "[encoded data removed]",
      "text/plain": [
       "<Figure size 432x288 with 1 Axes>"
      ]
     },
     "metadata": {
      "needs_background": "light"
     },
     "output_type": "display_data"
    }
   ],
   "source": [
    "#efficient frontier\n",
    "weight = np.linspace(start=0, stop=1, num=1000)\n",
    "portofolio_returns = weight * expected_return_one + (1 - weight) * expected_return_bitcoin\n",
    "portofolio_std = np.sqrt(weight**2*one_std**2+(1-weight)**2*bitcoin_std**2+2*corr_one_btc*one_std**2*bitcoin_std**2)\n",
    "\n",
    "#inefficient portofolios\n",
    "weight_inefficient = np.linspace(start=-0.5, stop=1.21, num=1000)\n",
    "portofolio_returns_inefficient = weight_inefficient * expected_return_one + (1 - weight_inefficient) * expected_return_bitcoin\n",
    "portofolio_std_inefficient = np.sqrt(weight_inefficient**2*one_std**2+(1-weight_inefficient)**2*bitcoin_std**2+2*corr_one_btc*one_std**2*bitcoin_std**2)\n",
    "\n",
    "plt.plot(portofolio_std*100, portofolio_returns*100, linestyle='-', c='blue')\n",
    "plt.plot(portofolio_std_inefficient*100, portofolio_returns_inefficient*100, linestyle='--', c='blue')\n",
    "\n",
    "plt.annotate('Only one', (portofolio_std[-1]*100, portofolio_returns[-1]*100), xytext=(portofolio_std[-1]*100, portofolio_returns[-1]*100))\n",
    "plt.annotate('Only bitcoin', (portofolio_std[0]*100, portofolio_returns[0]*100), xytext=(portofolio_std[0]*100, portofolio_returns[0]*100))\n",
    "plt.plot([portofolio_std[-1]*100,portofolio_std[0]*100], [portofolio_returns[-1]*100,portofolio_returns[0]*100], 'ro')\n",
    "\n",
    "plt.grid(True)"
   ]
  },
  {
   "cell_type": "markdown",
   "id": "779d439a",
   "metadata": {},
   "source": [
    "### Capital market line"
   ]
  },
  {
   "cell_type": "code",
   "execution_count": 14,
   "id": "213ea2b5",
   "metadata": {},
   "outputs": [],
   "source": [
    "SR = (portofolio_returns-risk_free_rate_harmony)/portofolio_std\n",
    "optimal_SR = SR.max()\n",
    "index_tan= np.argmax(SR)\n",
    "x= np.linspace(start=0, stop=3, num=1000)\n",
    "y = risk_free_rate_harmony + optimal_SR * x"
   ]
  },
  {
   "cell_type": "code",
   "execution_count": 15,
   "id": "41e6af6f",
   "metadata": {},
   "outputs": [
    {
     "data": {
      "text/plain": [
       "[<matplotlib.lines.Line2D at 0x251ca9f0580>]"
      ]
     },
     "execution_count": 15,
     "metadata": {},
     "output_type": "execute_result"
    },
    {
     "data": {
      "image/png": "[encoded data removed]",
      "text/plain": [
       "<Figure size 432x288 with 1 Axes>"
      ]
     },
     "metadata": {
      "needs_background": "light"
     },
     "output_type": "display_data"
    }
   ],
   "source": [
    "plt.plot(portofolio_std*100, portofolio_returns*100, linestyle='-', c='blue')\n",
    "plt.plot(portofolio_std_inefficient*100, portofolio_returns_inefficient*100, linestyle='--', c='blue')\n",
    "plt.plot(x*100, y*100, '-r', label='CML')\n",
    "\n",
    "plt.annotate('Only one', (portofolio_std[-1]*100, portofolio_returns[-1]*100), xytext=(portofolio_std[-1]*100, portofolio_returns[-1]*100))\n",
    "plt.annotate('Only bitcoin', (portofolio_std[0]*100, portofolio_returns[0]*100), xytext=(portofolio_std[0]*100, portofolio_returns[0]*100))\n",
    "plt.plot([portofolio_std[-1]*100,portofolio_std[0]*100,portofolio_std[index_tan]*100], [portofolio_returns[-1]*100,portofolio_returns[0]*100,portofolio_returns[index_tan]*100], 'ro')"
   ]
  },
  {
   "cell_type": "code",
   "execution_count": null,
   "id": "e9cdd18a",
   "metadata": {},
   "outputs": [],
   "source": []
  }
 ],
 "metadata": {
  "kernelspec": {
   "display_name": "Python 3 (ipykernel)",
   "language": "python",
   "name": "python3"
  },
  "language_info": {
   "codemirror_mode": {
    "name": "ipython",
    "version": 3
   },
   "file_extension": ".py",
   "mimetype": "text/x-python",
   "name": "python",
   "nbconvert_exporter": "python",
   "pygments_lexer": "ipython3",
   "version": "3.8.12"
  }
 },
 "nbformat": 4,
 "nbformat_minor": 5
}
