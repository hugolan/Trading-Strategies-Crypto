{
 "cells": [
  {
   "cell_type": "code",
   "execution_count": 66,
   "id": "0d1e6c8b",
   "metadata": {},
   "outputs": [],
   "source": [
    "import numpy as np\n",
    "import pandas as pd\n",
    "import yfinance as yf\n",
    "from statsmodels.tsa.stattools import coint\n",
    "import matplotlib.pyplot as plt\n",
    "import math"
   ]
  },
  {
   "cell_type": "markdown",
   "id": "a5c80be3",
   "metadata": {},
   "source": [
    "# Load data"
   ]
  },
  {
   "cell_type": "markdown",
   "id": "8c622847",
   "metadata": {},
   "source": [
    "### Bitcoin data"
   ]
  },
  {
   "cell_type": "code",
   "execution_count": 4,
   "id": "3eb62344",
   "metadata": {},
   "outputs": [],
   "source": [
    "btc_Ticker = yf.Ticker(\"BTC-USD\")\n",
    "btc_data = btc_Ticker.history(period=\"max\")"
   ]
  },
  {
   "cell_type": "markdown",
   "id": "3ad75770",
   "metadata": {},
   "source": [
    "## Fibonacci function"
   ]
  },
  {
   "cell_type": "code",
   "execution_count": 20,
   "id": "5a8e2d74",
   "metadata": {},
   "outputs": [],
   "source": [
    "def fibonacci_retracement(high,low,trend):\n",
    "    retracement_levels = {0:0,0.236:0,0.382:0,0.50:0,0.618:0,0.764:0,1:0}\n",
    "    fibonacci_extension = {0:0,0.382:0,0.618:0,1.000:0,1.382:0,1.618:0,2.000:0}\n",
    "    if(trend == \"uptrend\"):\n",
    "        for percentage in retracement_levels.keys():\n",
    "            retracement_levels[percentage] = high - ((high-low) * percentage)\n",
    "        for percentage in fibonacci_extension.keys():\n",
    "            fibonacci_extension[percentage] = high + ((high-low) * percentage)\n",
    "    elif(trend == \"downtrend\"):\n",
    "        for percentage in retracement_levels.keys():\n",
    "            retracement_levels[percentage] = low + ((high-low) * percentage)\n",
    "        for percentage in fibonacci_extension.keys():\n",
    "            fibonacci_extension[percentage] = low - ((high-low) * percentage)\n",
    "    else:\n",
    "        #throw error incorrect trend\n",
    "        return\n",
    "    return retracement_levels,fibonacci_extension"
   ]
  },
  {
   "cell_type": "code",
   "execution_count": 22,
   "id": "793b6b28",
   "metadata": {},
   "outputs": [],
   "source": [
    "min_btc = btc_data[\"Close\"].min()\n",
    "max_btc = btc_data[\"Close\"].max()"
   ]
  },
  {
   "cell_type": "code",
   "execution_count": 30,
   "id": "9f216537",
   "metadata": {
    "scrolled": false
   },
   "outputs": [],
   "source": [
    "fib_res = fibonacci_retracement(min_btc,max_btc,\"uptrend\")"
   ]
  },
  {
   "cell_type": "markdown",
   "id": "c4c9a237",
   "metadata": {},
   "source": [
    "## Plot on bitcoin data"
   ]
  },
  {
   "cell_type": "code",
   "execution_count": 62,
   "id": "f760bd0d",
   "metadata": {},
   "outputs": [
    {
     "data": {
      "text/plain": [
       "[<matplotlib.lines.Line2D at 0x24b0be6b400>]"
      ]
     },
     "execution_count": 62,
     "metadata": {},
     "output_type": "execute_result"
    },
    {
     "data": {
      "image/png": "[encoded data removed]",
      "text/plain": [
       "<Figure size 432x288 with 1 Axes>"
      ]
     },
     "metadata": {
      "needs_background": "light"
     },
     "output_type": "display_data"
    }
   ],
   "source": [
    "plt.plot(btc_data[\"Close\"])\n",
    "\n",
    "plt.plot(btc_data.reset_index()[\"Date\"], np.ones(len(btc_data.reset_index()[\"Date\"])) * fib_res[0][0], '-0', label=\"0.236\")\n",
    "\n",
    "plt.plot(btc_data.reset_index()[\"Date\"], np.ones(len(btc_data.reset_index()[\"Date\"])) * fib_res[0][0.236], '-0', label=\"0.236\")\n",
    "\n",
    "plt.plot(btc_data.reset_index()[\"Date\"], np.ones(len(btc_data.reset_index()[\"Date\"])) * fib_res[0][0.382], '-0')\n",
    "\n",
    "plt.plot(btc_data.reset_index()[\"Date\"], np.ones(len(btc_data.reset_index()[\"Date\"])) * fib_res[0][0.5], '-0')\n",
    "\n",
    "plt.plot(btc_data.reset_index()[\"Date\"], np.ones(len(btc_data.reset_index()[\"Date\"])) * fib_res[0][0.618], '-0')\n",
    "\n",
    "plt.plot(btc_data.reset_index()[\"Date\"], np.ones(len(btc_data.reset_index()[\"Date\"])) * fib_res[0][0.764], '-0')\n",
    "\n",
    "plt.plot(btc_data.reset_index()[\"Date\"], np.ones(len(btc_data.reset_index()[\"Date\"])) * fib_res[0][1], '-0')\n"
   ]
  },
  {
   "cell_type": "code",
   "execution_count": 184,
   "id": "0756bc51",
   "metadata": {},
   "outputs": [],
   "source": [
    "\n",
    "def backtest(amount, buy, sell, data, bought = 1):\n",
    "    coins = float(amount / buy)\n",
    "    last_price = 0.0\n",
    "    for price_index in range(len(data)):\n",
    "        if(bought == 1):\n",
    "            if(data[price_index] > sell):\n",
    "                bought = 0.0\n",
    "                amount = coins * sell\n",
    "                coins = 0.0\n",
    "                print(max(coins * last_price,amount))\n",
    "                \n",
    "        else:\n",
    "            if(data[price_index] < buy):\n",
    "                bought = 1\n",
    "                coins = float(amount/buy)\n",
    "                amount = 0.0\n",
    "                print(max(coins * last_price,amount))\n",
    "        last_price = data[price_index]\n",
    "        \n",
    "    return  max(coins * last_price,amount)/1000 * 100"
   ]
  },
  {
   "cell_type": "code",
   "execution_count": 198,
   "id": "be18969f",
   "metadata": {},
   "outputs": [
    {
     "data": {
      "text/plain": [
       "100.0"
      ]
     },
     "execution_count": 198,
     "metadata": {},
     "output_type": "execute_result"
    }
   ],
   "source": [
    "backtest(1000.0,fib_res[0][0.764],fib_res[0][1],(btc_data[\"Close\"].to_numpy()),1)"
   ]
  },
  {
   "cell_type": "code",
   "execution_count": null,
   "id": "6f65c8d8",
   "metadata": {},
   "outputs": [],
   "source": []
  }
 ],
 "metadata": {
  "kernelspec": {
   "display_name": "Python 3 (ipykernel)",
   "language": "python",
   "name": "python3"
  },
  "language_info": {
   "codemirror_mode": {
    "name": "ipython",
    "version": 3
   },
   "file_extension": ".py",
   "mimetype": "text/x-python",
   "name": "python",
   "nbconvert_exporter": "python",
   "pygments_lexer": "ipython3",
   "version": "3.8.12"
  }
 },
 "nbformat": 4,
 "nbformat_minor": 5
}
